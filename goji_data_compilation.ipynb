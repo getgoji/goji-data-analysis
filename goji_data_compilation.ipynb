{
 "cells": [
  {
   "attachments": {},
   "cell_type": "markdown",
   "metadata": {},
   "source": [
    "# Goji Data Compilation\n",
    "\n",
    "<a href=\"https://colab.research.google.com/github/jasmine-schoch/goji-data-analysis/blob/main/goji_data_compilation.ipynb\" target=\"_parent\"><img src=\"https://colab.research.google.com/assets/colab-badge.svg\" alt=\"Open In Colab\"/></a>"
   ]
  },
  {
   "attachments": {},
   "cell_type": "markdown",
   "metadata": {},
   "source": [
    "## Import needed libraries and define constants"
   ]
  },
  {
   "cell_type": "code",
   "execution_count": 35,
   "metadata": {
    "id": "jc6qmmJ5k5Ms"
   },
   "outputs": [],
   "source": [
    "import math\n",
    "import numpy as np\n",
    "import os\n",
    "import pandas as pd\n",
    "import pyarrow\n",
    "from slugify import slugify\n",
    "\n",
    "# Sheets file containing all of the links to individual company's information:\n",
    "DATA_SOURCES_GOOGLE_SHEETS = \"https://docs.google.com/spreadsheets/d/1oEaZVl3YF6JCxS63wsk10HO2dCVFs_CyfZ-cmlMFU0c/edit?usp=sharing\"\n",
    "GOOGLE_SHEETS_TO_CSV_SUFFIX = \"/export?format=csv\"\n",
    "CACHE_DIR = \"local_cache/\""
   ]
  },
  {
   "attachments": {},
   "cell_type": "markdown",
   "metadata": {},
   "source": [
    "## Initialize Variables and Data"
   ]
  },
  {
   "attachments": {},
   "cell_type": "markdown",
   "metadata": {},
   "source": [
    "### Define output data frame and columns"
   ]
  },
  {
   "cell_type": "code",
   "execution_count": 36,
   "metadata": {
    "id": "tB4uu_gCwK3c"
   },
   "outputs": [],
   "source": [
    "# Final data frame\n",
    "Final = pd.DataFrame()\n",
    "Final.index = [\n",
    "    \"Total\",\n",
    "    \"Carbon Emmisions\",\n",
    "    \"Water Usage\",\n",
    "    \"Ethical Sourcing\",\n",
    "    \"Labor Rights\",\n",
    "    \"Transparency & Policy\",\n",
    "    \"DEI\",\n",
    "]"
   ]
  },
  {
   "attachments": {},
   "cell_type": "markdown",
   "metadata": {},
   "source": [
    "### Get data sources URLs into a data frame"
   ]
  },
  {
   "cell_type": "code",
   "execution_count": 37,
   "metadata": {},
   "outputs": [],
   "source": [
    "csv_url = DATA_SOURCES_GOOGLE_SHEETS[:DATA_SOURCES_GOOGLE_SHEETS.rindex('/')] + GOOGLE_SHEETS_TO_CSV_SUFFIX\n",
    "data_source_urls_df = pd.read_csv(csv_url, header=None)"
   ]
  },
  {
   "attachments": {},
   "cell_type": "markdown",
   "metadata": {},
   "source": [
    "## Get all company data\n",
    "Load data from local cache if available. Download the data otherwise."
   ]
  },
  {
   "cell_type": "code",
   "execution_count": 45,
   "metadata": {},
   "outputs": [],
   "source": [
    "# Dictionary of company name -> data frame\n",
    "company_to_data = {}\n",
    "\n",
    "# Create cache dir if needed\n",
    "if not os.path.exists(CACHE_DIR):\n",
    "    os.makedirs(CACHE_DIR, exist_ok=True)\n",
    "\n",
    "# Iterate through each company and load the data\n",
    "for index, row in data_source_urls_df.iterrows():\n",
    "    # Define cache path\n",
    "    cache_filename = CACHE_DIR + slugify(row[0])+\".feather\"\n",
    "\n",
    "    # Define data url\n",
    "    data: pd.DataFrame\n",
    "\n",
    "    try:\n",
    "        # Try loading the data locally\n",
    "        data = pd.read_feather(cache_filename)\n",
    "    except FileNotFoundError:\n",
    "        # Get the data online\n",
    "        online_url = row[1][:row[1].rindex('/')] + GOOGLE_SHEETS_TO_CSV_SUFFIX\n",
    "        data = pd.read_csv(online_url, header=None)\n",
    "\n",
    "        # Cache data (convert columns to strings)\n",
    "        data.columns = data.columns.map(str)\n",
    "        data.to_feather(cache_filename)\n",
    "    \n",
    "    # Record data frame into dictionary\n",
    "    company_to_data[row[0]] = data"
   ]
  },
  {
   "attachments": {},
   "cell_type": "markdown",
   "metadata": {},
   "source": [
    "## Compile each company's data into `Final`"
   ]
  },
  {
   "cell_type": "code",
   "execution_count": 46,
   "metadata": {},
   "outputs": [],
   "source": [
    "for company, data in company_to_data.items():\n",
    "    # Pull info for each column\n",
    "    total = int(data.iloc[68, 9])\n",
    "    carbon = int(data.iloc[84, 9])\n",
    "    water = int(data.iloc[85, 9])\n",
    "    sourcing = sum(map(int, data.iloc[[80, 81], 9]))\n",
    "    labor = sum(map(int, data.iloc[[71, 72, 73, 76, 79, 92], 9]))\n",
    "    trans = sum(map(int, data.iloc[[69, 75, 83, 87, 89, 91, 92], 9]))\n",
    "    dei = int(data.iloc[90, 9])\n",
    "\n",
    "    # Save into Final data frame\n",
    "    Final[data.iloc[2, 2]] = [total, carbon, water, sourcing, labor, trans, dei]"
   ]
  },
  {
   "attachments": {},
   "cell_type": "markdown",
   "metadata": {},
   "source": [
    "## Calculate percentile rankings"
   ]
  },
  {
   "cell_type": "code",
   "execution_count": 206,
   "metadata": {
    "id": "I-U8ZPBZp81-"
   },
   "outputs": [],
   "source": [
    "# Finding percentile rankings:\n",
    "for x in range(len(Final)):  # looping through each row\n",
    "    rowcurr = list(Final.iloc[x, :])  # setting row as a list\n",
    "    length = len(rowcurr)\n",
    "    for y in range(length):  # looping through each data point\n",
    "        count = 0\n",
    "        j = rowcurr[y]\n",
    "        for z in range(length):\n",
    "            if j > rowcurr[z]:\n",
    "                count += 1\n",
    "        Final.iloc[x, y] = int((math.trunc(round(((count / length) * 100)))))\n",
    "for x in range(len(Final.columns)):\n",
    "    Final.iloc[0, x] = int((math.trunc(round((sum(Final.iloc[1:, x]) / 6)))))"
   ]
  },
  {
   "attachments": {},
   "cell_type": "markdown",
   "metadata": {},
   "source": [
    "## Save the results to a JSON file"
   ]
  },
  {
   "cell_type": "code",
   "execution_count": 212,
   "metadata": {
    "id": "eHTtgeSH3_OA"
   },
   "outputs": [],
   "source": [
    "Reversed = Final.loc[\n",
    "    [\n",
    "        \"Carbon Emmisions\",\n",
    "        \"Water Usage\",\n",
    "        \"Ethical Sourcing\",\n",
    "        \"Labor Rights\",\n",
    "        \"Transparency & Policy\",\n",
    "        \"DEI\",\n",
    "        \"Total\",\n",
    "    ]\n",
    "]\n",
    "\n",
    "# Saving final table to json\n",
    "# Don't forget to export file from sidebar!!\n",
    "Reversed.to_json(\"percentile.json\", orient=\"split\", compression=\"infer\", index=\"true\")"
   ]
  }
 ],
 "metadata": {
  "colab": {
   "collapsed_sections": [],
   "include_colab_link": true,
   "provenance": []
  },
  "kernelspec": {
   "display_name": "goji-data-analysis",
   "language": "python",
   "name": "python3"
  },
  "language_info": {
   "codemirror_mode": {
    "name": "ipython",
    "version": 3
   },
   "file_extension": ".py",
   "mimetype": "text/x-python",
   "name": "python",
   "nbconvert_exporter": "python",
   "pygments_lexer": "ipython3",
   "version": "3.11.1"
  },
  "vscode": {
   "interpreter": {
    "hash": "a9f53b098fe090f3c0c095686266618dcd0c09457c59ad1c400dc8d23c32689a"
   }
  }
 },
 "nbformat": 4,
 "nbformat_minor": 0
}
